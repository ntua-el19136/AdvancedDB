{
 "cells": [
  {
   "cell_type": "code",
   "execution_count": 1,
   "id": "5622b33f",
   "metadata": {
    "scrolled": false
   },
   "outputs": [
    {
     "name": "stdout",
     "output_type": "stream",
     "text": [
      "Starting Spark application\n"
     ]
    },
    {
     "data": {
      "text/html": [
       "<table>\n",
       "<tr><th>ID</th><th>YARN Application ID</th><th>Kind</th><th>State</th><th>Spark UI</th><th>Driver log</th><th>User</th><th>Current session?</th></tr><tr><td>1538</td><td>application_1732639283265_1499</td><td>pyspark</td><td>idle</td><td><a target=\"_blank\" href=\"http://ip-192-168-1-36.eu-central-1.compute.internal:20888/proxy/application_1732639283265_1499/\">Link</a></td><td><a target=\"_blank\" href=\"http://ip-192-168-1-193.eu-central-1.compute.internal:8042/node/containerlogs/container_1732639283265_1499_01_000001/livy\">Link</a></td><td>None</td><td>✔</td></tr></table>"
      ],
      "text/plain": [
       "<IPython.core.display.HTML object>"
      ]
     },
     "metadata": {},
     "output_type": "display_data"
    },
    {
     "data": {
      "application/vnd.jupyter.widget-view+json": {
       "model_id": "",
       "version_major": 2,
       "version_minor": 0
      },
      "text/plain": [
       "FloatProgress(value=0.0, bar_style='info', description='Progress:', layout=Layout(height='25px', width='50%'),…"
      ]
     },
     "metadata": {},
     "output_type": "display_data"
    },
    {
     "name": "stdout",
     "output_type": "stream",
     "text": [
      "SparkSession available as 'spark'.\n"
     ]
    },
    {
     "data": {
      "application/vnd.jupyter.widget-view+json": {
       "model_id": "",
       "version_major": 2,
       "version_minor": 0
      },
      "text/plain": [
       "FloatProgress(value=0.0, bar_style='info', description='Progress:', layout=Layout(height='25px', width='50%'),…"
      ]
     },
     "metadata": {},
     "output_type": "display_data"
    },
    {
     "name": "stdout",
     "output_type": "stream",
     "text": [
      "+------------+--------------+\n",
      "|   Age_Group|Incident_Count|\n",
      "+------------+--------------+\n",
      "|      Adults|        121093|\n",
      "|Young Adults|         33605|\n",
      "|    Children|         15928|\n",
      "|     Elderly|          5985|\n",
      "+------------+--------------+\n",
      "\n",
      "Execution Time DataFrame API: 5.0830 seconds\n",
      "[('Adults', 121093), ('Young Adults', 33605), ('Children', 15928), ('Elderly', 5985)]\n",
      "Execution Time RDD API: 12.9648 seconds\n",
      "DataFrame API was faster."
     ]
    }
   ],
   "source": [
    "import pandas as pd\n",
    "import time\n",
    "import pyspark\n",
    "from pyspark.sql import SparkSession\n",
    "from pyspark.sql.functions import col, when, lower, count\n",
    "\n",
    "#Αρχικοποίηση SparkSession με 4 executors\n",
    "spark = SparkSession.builder \\\n",
    "    .appName(\"Query 1 - Age Sorting\") \\\n",
    "    .config(\"spark.executor.instances\", 4) \\\n",
    "    .getOrCreate()\n",
    "\n",
    "#Φόρτωση των δεδομένων από αρχεία CSV\n",
    "file_path = 's3://initial-notebook-data-bucket-dblab-905418150721/CrimeData/Crime_Data_from_2010_to_2019_20241101.csv' \n",
    "file_path2 = 's3://initial-notebook-data-bucket-dblab-905418150721/CrimeData/Crime_Data_from_2020_to_Present_20241101.csv'\n",
    "data1 = spark.read.csv(file_path, header=True, inferSchema=True)\n",
    "data2 = spark.read.csv(file_path2, header=True, inferSchema=True)\n",
    "\n",
    "#Ένωση των δύο συνόλων δεδομένων\n",
    "data = data1.union(data2)\n",
    "\n",
    "#Ορισμός ηλικιακών ομάδων\n",
    "data = data.withColumn(\n",
    "    \"Age_Group\",\n",
    "    when(col(\"Vict Age\") < 18, \"Children\")\n",
    "    .when((col(\"Vict Age\") >= 18) & (col(\"Vict Age\") <= 24), \"Young Adults\")\n",
    "    .when((col(\"Vict Age\") >= 25) & (col(\"Vict Age\") <= 64), \"Adults\")\n",
    "    .when(col(\"Vict Age\") > 64, \"Elderly\")\n",
    ")\n",
    "\n",
    "#Φιλτράρισμα για περιστατικά \"aggravated assault\"\n",
    "filtered_data = data.filter(lower(col(\"Crm Cd Desc\")).contains(\"aggravated assault\"))\n",
    "\n",
    "#Χρόνος εκτέλεσης για DataFrame API\n",
    "start_time_df = time.time()\n",
    "\n",
    "#Ομαδοποίηση κατά ηλικιακή ομάδα και μέτρηση\n",
    "result_df = filtered_data.groupBy(\"Age_Group\").agg(count(\"*\").alias(\"Incident_Count\"))\n",
    "\n",
    "#Ταξινόμηση κατά Incident_Count σε φθίνουσα σειρά\n",
    "sorted_result = result_df.orderBy(col(\"Incident_Count\").desc())\n",
    "\n",
    "#Εμφάνιση αποτελεσμάτων από DataFrame API\n",
    "sorted_result.show()\n",
    "\n",
    "end_time_df = time.time()\n",
    "execution_time_df = end_time_df - start_time_df\n",
    "print(f\"Execution Time DataFrame API: {execution_time_df:.4f} seconds\")\n",
    "\n",
    "#Χρόνος εκτέλεσης για RDD API\n",
    "start_time_rdd = time.time()\n",
    "\n",
    "rdd = filtered_data.rdd.map(lambda row: (row[\"Age_Group\"], 1)) \\\n",
    "    .reduceByKey(lambda x, y: x + y) \\\n",
    "    .sortBy(lambda x: x[1], ascending=False)\n",
    "\n",
    "#Εμφάνιση αποτελεσμάτων από RDD API\n",
    "print(rdd.collect())\n",
    "\n",
    "end_time_rdd = time.time()\n",
    "execution_time_rdd = end_time_rdd - start_time_rdd\n",
    "print(f\"Execution Time RDD API: {execution_time_rdd:.4f} seconds\")\n",
    "\n",
    "#Σύγκριση χρόνων\n",
    "if execution_time_df < execution_time_rdd:\n",
    "    print(\"DataFrame API was faster.\")\n",
    "else:\n",
    "    print(\"RDD API was faster.\")\n"
   ]
  },
  {
   "cell_type": "code",
   "execution_count": null,
   "id": "ea85b695",
   "metadata": {},
   "outputs": [],
   "source": []
  }
 ],
 "metadata": {
  "kernelspec": {
   "display_name": "Sparkmagic (PySpark)",
   "language": "python",
   "name": "pysparkkernel"
  },
  "language_info": {
   "codemirror_mode": {
    "name": "python",
    "version": 3
   },
   "file_extension": ".py",
   "mimetype": "text/x-python",
   "name": "pyspark",
   "pygments_lexer": "python3"
  }
 },
 "nbformat": 4,
 "nbformat_minor": 5
}
