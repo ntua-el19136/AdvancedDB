{
 "cells": [
  {
   "cell_type": "code",
   "execution_count": 5,
   "id": "aca4a5be",
   "metadata": {
    "scrolled": true
   },
   "outputs": [
    {
     "data": {
      "application/vnd.jupyter.widget-view+json": {
       "model_id": "",
       "version_major": 2,
       "version_minor": 0
      },
      "text/plain": [
       "FloatProgress(value=0.0, bar_style='info', description='Progress:', layout=Layout(height='25px', width='50%'),…"
      ]
     },
     "metadata": {},
     "output_type": "display_data"
    },
    {
     "name": "stdout",
     "output_type": "stream",
     "text": [
      "Data successfully saved to s3://groups-bucket-dblab-905418150721/group29/ in Parquet format."
     ]
    }
   ],
   "source": [
    "from pyspark.sql import SparkSession\n",
    "from pyspark.sql.functions import col, when, year, to_date, count, sum as _sum, rank\n",
    "from pyspark.sql.window import Window\n",
    "import time\n",
    "\n",
    "#Αρχικοποίηση SparkSession\n",
    "spark = SparkSession.builder.appName(\"Query 2b - CSV/Parquet Comparison\").getOrCreate()\n",
    "\n",
    "#Φόρτωση των δεδομένων από αρχεία CSV\n",
    "file_path = 's3://initial-notebook-data-bucket-dblab-905418150721/CrimeData/Crime_Data_from_2010_to_2019_20241101.csv'\n",
    "file_path2 = 's3://initial-notebook-data-bucket-dblab-905418150721/CrimeData/Crime_Data_from_2020_to_Present_20241101.csv'\n",
    "data1 = spark.read.csv(file_path, header=True, inferSchema=True)\n",
    "data2 = spark.read.csv(file_path2, header=True, inferSchema=True)\n",
    "\n",
    "#Ένωση των δύο συνόλων δεδομένων\n",
    "csv_data = data1.union(data2)\n",
    "\n",
    "#Η μέθοδος coalesce(1) περιορίζει το DataFrame σε ένα μόνο partition\n",
    "#Αυτό έχει ως αποτέλεσμα να δημιουργηθεί ένα μόνο αρχείο κατά την αποθήκευση των δεδομένων σε αρχείο \n",
    "#Parquet, αντί για πολλά αρχεία\n",
    "single_partition_data = csv_data.coalesce(1)\n",
    "\n",
    "#Αποθήκευση σε Parquet\n",
    "parquet_output_path = 's3://groups-bucket-dblab-905418150721/group29/'  #S3 bucket path\n",
    "single_partition_data.write.mode(\"overwrite\").parquet(parquet_output_path)\n",
    "\n",
    "print(f\"Data successfully saved to {parquet_output_path} in Parquet format.\")"
   ]
  },
  {
   "cell_type": "code",
   "execution_count": 6,
   "id": "3e80a990",
   "metadata": {},
   "outputs": [
    {
     "data": {
      "application/vnd.jupyter.widget-view+json": {
       "model_id": "",
       "version_major": 2,
       "version_minor": 0
      },
      "text/plain": [
       "FloatProgress(value=0.0, bar_style='info', description='Progress:', layout=Layout(height='25px', width='50%'),…"
      ]
     },
     "metadata": {},
     "output_type": "display_data"
    },
    {
     "name": "stdout",
     "output_type": "stream",
     "text": [
      "CSV Execution Time: 0.07734 seconds\n",
      "Parquet Execution Time: 0.07023 seconds\n",
      "Parquet was faster."
     ]
    }
   ],
   "source": [
    "### Μετρήσεις χρόνου για CSV ###\n",
    "\n",
    "#Χρόνος εκτέλεσης για το αρχείο Parquet\n",
    "start_time_csv = time.time()\n",
    "\n",
    "#Eξαγωγή του έτους από τη στήλη 'Date Rptd'\n",
    "csv_data = csv_data.withColumn(\"year\", year(to_date(\"Date Rptd\", \"MM/dd/yyyy hh:mm:ss a\")))\n",
    "\n",
    "#Προσθήκη στήλης που ελέγχει αν η υπόθεση έχει κλείσει (δηλαδή δεν είναι \"Invest Cont ή UNK\")\n",
    "csv_data = csv_data.withColumn(\"is_closed\",when(~col(\"Status Desc\").rlike(\"Invest Cont|UNK\"), 1).otherwise(0))\n",
    "\n",
    "#Ομαδοποίηση κατά έτος και όνομα περιοχής για υπολογισμό συνολικών και κλειστών υποθέσεων\n",
    "csv_summary = csv_data.groupBy(\"year\", \"AREA NAME\").agg(\n",
    "    count(\"DR_NO\").alias(\"total_cases\"), #Συνολικές υποθέσεις\n",
    "    _sum(\"is_closed\").alias(\"closed_cases\") #Κλειστές υποθέσεις\n",
    ")\n",
    "\n",
    "#Υπολογισμός ποσοστού κλειστών υποθέσεων\n",
    "csv_summary = csv_summary.withColumn(\"closed_case_rate\", (col(\"closed_cases\") / col(\"total_cases\")) * 100)\n",
    "\n",
    "#Ορισμός παραθύρου για κατάταξη με βάση το ποσοστό κλειστών υποθέσεων\n",
    "window_spec = Window.partitionBy(\"year\").orderBy(col(\"closed_case_rate\").desc())\n",
    "\n",
    "#Προσθήκη κατάταξης με βάση το ποσοστό κλειστών υποθέσεων\n",
    "csv_summary = csv_summary.withColumn(\"rank\", rank().over(window_spec))\n",
    "\n",
    "# Φιλτράρισμα για τις 3 πρώτες εγγραφές ανά έτος\n",
    "csv_top3_summary = csv_summary.filter(col(\"rank\") <= 3).orderBy(\"year\", \"rank\")\n",
    "\n",
    "#Υπολογισμός χρόνου εκτέλεσης\n",
    "end_time_csv = time.time()\n",
    "execution_time_csv = end_time_csv - start_time_csv\n",
    "\n",
    "print(f\"CSV Execution Time: {execution_time_csv:.5f} seconds\")\n",
    "\n",
    "\n",
    "#################################################################################################\n",
    "\n",
    "\n",
    "### Μετρήσεις χρόνου για Parquet ###\n",
    "\n",
    "#Φόρτωση των δεδομένων από το αρχείο Parquet\n",
    "parquet_file_path = \"s3://groups-bucket-dblab-905418150721/group29/*.snappy.parquet\"\n",
    "parquet_data = spark.read.parquet(parquet_file_path)\n",
    "\n",
    "#Χρόνος εκτέλεσης για το αρχείο Parquet\n",
    "start_time_parquet = time.time()\n",
    "\n",
    "#Eξαγωγή του έτους από τη στήλη 'Date Rptd'\n",
    "parquet_data = parquet_data.withColumn(\"year\", year(to_date(\"Date Rptd\", \"MM/dd/yyyy hh:mm:ss a\")))\n",
    "\n",
    "#Προσθήκη στήλης που ελέγχει αν η υπόθεση έχει κλείσει (δηλαδή δεν είναι \"Invest Cont ή UNK\")\n",
    "parquet_data = parquet_data.withColumn(\"is_closed\",when(~col(\"Status Desc\").rlike(\"Invest Cont|UNK\"), 1).otherwise(0))\n",
    "\n",
    "#Ομαδοποίηση κατά έτος και όνομα περιοχής για υπολογισμό συνολικών και κλειστών υποθέσεων\n",
    "parquet_summary = parquet_data.groupBy(\"year\", \"AREA NAME\").agg(\n",
    "    count(\"DR_NO\").alias(\"total_cases\"),\n",
    "    _sum(\"is_closed\").alias(\"closed_cases\")\n",
    ")\n",
    "\n",
    "#Υπολογισμός ποσοστού κλειστών υποθέσεων\n",
    "parquet_summary = parquet_summary.withColumn(\"closed_case_rate\", (col(\"closed_cases\") / col(\"total_cases\")) * 100)\n",
    "\n",
    "#Ορισμός παραθύρου για κατάταξη με βάση το ποσοστό κλειστών υποθέσεων\n",
    "window_spec = Window.partitionBy(\"year\").orderBy(col(\"closed_case_rate\").desc())\n",
    "\n",
    "#Προσθήκη κατάταξης με βάση το ποσοστό κλειστών υποθέσεων\n",
    "parquet_summary = parquet_summary.withColumn(\"rank\", rank().over(window_spec))\n",
    "\n",
    "# Φιλτράρισμα για τις 3 πρώτες εγγραφές ανά έτος\n",
    "parquet_top3_summary = parquet_summary.filter(col(\"rank\") <= 3).orderBy(\"year\", \"rank\")\n",
    "\n",
    "#Υπολογισμός χρόνου εκτέλεσης\n",
    "end_time_parquet = time.time()\n",
    "execution_time_parquet = end_time_parquet - start_time_parquet\n",
    "\n",
    "print(f\"Parquet Execution Time: {execution_time_parquet:.5f} seconds\")\n",
    "\n",
    "\n",
    "#Σύγκριση χρόνων\n",
    "if execution_time_csv < execution_time_parquet:\n",
    "    print(\"CSV was faster.\")\n",
    "else:\n",
    "    print(\"Parquet was faster.\")"
   ]
  },
  {
   "cell_type": "code",
   "execution_count": null,
   "id": "4ac5f719",
   "metadata": {},
   "outputs": [],
   "source": []
  }
 ],
 "metadata": {
  "kernelspec": {
   "display_name": "Sparkmagic (PySpark)",
   "language": "python",
   "name": "pysparkkernel"
  },
  "language_info": {
   "codemirror_mode": {
    "name": "python",
    "version": 3
   },
   "file_extension": ".py",
   "mimetype": "text/x-python",
   "name": "pyspark",
   "pygments_lexer": "python3"
  }
 },
 "nbformat": 4,
 "nbformat_minor": 5
}
